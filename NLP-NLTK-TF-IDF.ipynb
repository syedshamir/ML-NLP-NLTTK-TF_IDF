{
 "cells": [
  {
   "cell_type": "code",
   "execution_count": null,
   "metadata": {},
   "outputs": [],
   "source": []
  },
  {
   "cell_type": "code",
   "execution_count": 1,
   "metadata": {},
   "outputs": [
    {
     "name": "stdout",
     "output_type": "stream",
     "text": [
      "Requirement already satisfied: nltk in c:\\users\\asus\\anaconda3\\lib\\site-packages (3.7)"
     ]
    },
    {
     "name": "stderr",
     "output_type": "stream",
     "text": [
      "WARNING: Ignoring invalid distribution -atplotlib (c:\\users\\asus\\anaconda3\\lib\\site-packages)\n",
      "WARNING: Ignoring invalid distribution -atplotlib (c:\\users\\asus\\anaconda3\\lib\\site-packages)\n",
      "WARNING: Ignoring invalid distribution -atplotlib (c:\\users\\asus\\anaconda3\\lib\\site-packages)\n",
      "WARNING: Ignoring invalid distribution -atplotlib (c:\\users\\asus\\anaconda3\\lib\\site-packages)\n",
      "WARNING: Ignoring invalid distribution -atplotlib (c:\\users\\asus\\anaconda3\\lib\\site-packages)\n",
      "WARNING: Ignoring invalid distribution -atplotlib (c:\\users\\asus\\anaconda3\\lib\\site-packages)\n"
     ]
    },
    {
     "name": "stdout",
     "output_type": "stream",
     "text": [
      "\n",
      "Requirement already satisfied: joblib in c:\\users\\asus\\anaconda3\\lib\\site-packages (from nltk) (1.2.0)\n",
      "Requirement already satisfied: click in c:\\users\\asus\\anaconda3\\lib\\site-packages (from nltk) (8.0.4)\n",
      "Requirement already satisfied: tqdm in c:\\users\\asus\\anaconda3\\lib\\site-packages (from nltk) (4.64.1)\n",
      "Requirement already satisfied: regex>=2021.8.3 in c:\\users\\asus\\anaconda3\\lib\\site-packages (from nltk) (2022.7.9)\n",
      "Requirement already satisfied: colorama in c:\\users\\asus\\anaconda3\\lib\\site-packages (from click->nltk) (0.4.5)\n"
     ]
    }
   ],
   "source": [
    "!pip install nltk"
   ]
  },
  {
   "cell_type": "code",
   "execution_count": 2,
   "metadata": {},
   "outputs": [],
   "source": [
    "paragraph = \"\"\"  \n",
    "Imran Ahmed Khan Niazi (Urdu: عمران خان , pronounced [ɪmɾaːn ɛɦməd xaːn nɪjaːziː]; born 5 October 1952) is a Pakistani politician and former cricketer who served as the 22nd prime minister of Pakistan from August 2018 until April 2022. He is the founder and former chairman of the political party Pakistan Tehreek-e-Insaf (PTI) from 1996 to 2023. He was the captain of the Pakistan national cricket team throughout the 1980s and early 90s.\n",
    "\n",
    "Born in Lahore, Khan graduated from Keble College, Oxford. He began his international cricket career in a 1971 Test series against England. Khan played until 1992, served as the team's captain intermittently between 1982 and 1992, and won the 1992 Cricket World Cup, Pakistan's only victory in the competition. Considered one of cricket's greatest all-rounders, Khan was later inducted into the ICC Cricket Hall of Fame. Founding the Pakistan Tehreek-e-Insaf (PTI) in 1996, Khan won a seat in the National Assembly in the 2002 general election, serving as an opposition member from Mianwali until 2007. PTI boycotted the 2008 general election and became the second-largest party by popular vote in the 2013 general election. In the 2018 general election, running on a populist platform, PTI became the largest party in the National Assembly, and formed a coalition government with independents with Khan as prime minister.\n",
    "\n",
    "\"\"\""
   ]
  },
  {
   "cell_type": "code",
   "execution_count": 6,
   "metadata": {},
   "outputs": [],
   "source": [
    "import nltk"
   ]
  },
  {
   "cell_type": "code",
   "execution_count": 7,
   "metadata": {},
   "outputs": [],
   "source": [
    "from nltk.stem import PorterStemmer\n",
    "from nltk.corpus import stopwords"
   ]
  },
  {
   "cell_type": "code",
   "execution_count": 8,
   "metadata": {},
   "outputs": [
    {
     "name": "stderr",
     "output_type": "stream",
     "text": [
      "[nltk_data] Downloading package punkt to\n",
      "[nltk_data]     C:\\Users\\ASUS\\AppData\\Roaming\\nltk_data...\n",
      "[nltk_data]   Package punkt is already up-to-date!\n"
     ]
    }
   ],
   "source": [
    "#tokenization -- converts paragraph sentences to words\n",
    "nltk.download('punkt')\n",
    "sentences = nltk.sent_tokenize(paragraph)"
   ]
  },
  {
   "cell_type": "code",
   "execution_count": 9,
   "metadata": {},
   "outputs": [
    {
     "data": {
      "text/plain": [
       "['  \\nImran Ahmed Khan Niazi (Urdu: عمران خان , pronounced [ɪmɾaːn ɛɦməd xaːn nɪjaːziː]; born 5 October 1952) is a Pakistani politician and former cricketer who served as the 22nd prime minister of Pakistan from August 2018 until April 2022.',\n",
       " 'He is the founder and former chairman of the political party Pakistan Tehreek-e-Insaf (PTI) from 1996 to 2023.',\n",
       " 'He was the captain of the Pakistan national cricket team throughout the 1980s and early 90s.',\n",
       " 'Born in Lahore, Khan graduated from Keble College, Oxford.',\n",
       " 'He began his international cricket career in a 1971 Test series against England.',\n",
       " \"Khan played until 1992, served as the team's captain intermittently between 1982 and 1992, and won the 1992 Cricket World Cup, Pakistan's only victory in the competition.\",\n",
       " \"Considered one of cricket's greatest all-rounders, Khan was later inducted into the ICC Cricket Hall of Fame.\",\n",
       " 'Founding the Pakistan Tehreek-e-Insaf (PTI) in 1996, Khan won a seat in the National Assembly in the 2002 general election, serving as an opposition member from Mianwali until 2007.',\n",
       " 'PTI boycotted the 2008 general election and became the second-largest party by popular vote in the 2013 general election.',\n",
       " 'In the 2018 general election, running on a populist platform, PTI became the largest party in the National Assembly, and formed a coalition government with independents with Khan as prime minister.']"
      ]
     },
     "execution_count": 9,
     "metadata": {},
     "output_type": "execute_result"
    }
   ],
   "source": [
    "sentences"
   ]
  },
  {
   "cell_type": "code",
   "execution_count": 10,
   "metadata": {},
   "outputs": [],
   "source": [
    "#stemming - to find base root word\n",
    "stemmer = PorterStemmer()\n"
   ]
  },
  {
   "cell_type": "code",
   "execution_count": 11,
   "metadata": {},
   "outputs": [
    {
     "data": {
      "text/plain": [
       "'cute'"
      ]
     },
     "execution_count": 11,
     "metadata": {},
     "output_type": "execute_result"
    }
   ],
   "source": [
    "stemmer.stem('cute')"
   ]
  },
  {
   "cell_type": "code",
   "execution_count": 12,
   "metadata": {},
   "outputs": [],
   "source": [
    "#Lemmmatizer\n",
    "from nltk.stem import WordNetLemmatizer"
   ]
  },
  {
   "cell_type": "code",
   "execution_count": 13,
   "metadata": {},
   "outputs": [
    {
     "name": "stderr",
     "output_type": "stream",
     "text": [
      "[nltk_data] Downloading package wordnet to\n",
      "[nltk_data]     C:\\Users\\ASUS\\AppData\\Roaming\\nltk_data...\n",
      "[nltk_data]   Package wordnet is already up-to-date!\n"
     ]
    },
    {
     "data": {
      "text/plain": [
       "True"
      ]
     },
     "execution_count": 13,
     "metadata": {},
     "output_type": "execute_result"
    }
   ],
   "source": [
    "nltk.download('wordnet')"
   ]
  },
  {
   "cell_type": "code",
   "execution_count": 14,
   "metadata": {},
   "outputs": [
    {
     "name": "stderr",
     "output_type": "stream",
     "text": [
      "[nltk_data] Downloading package omw-1.4 to\n",
      "[nltk_data]     C:\\Users\\ASUS\\AppData\\Roaming\\nltk_data...\n",
      "[nltk_data]   Package omw-1.4 is already up-to-date!\n"
     ]
    },
    {
     "data": {
      "text/plain": [
       "True"
      ]
     },
     "execution_count": 14,
     "metadata": {},
     "output_type": "execute_result"
    }
   ],
   "source": [
    "nltk.download('omw-1.4')"
   ]
  },
  {
   "cell_type": "code",
   "execution_count": 15,
   "metadata": {},
   "outputs": [],
   "source": [
    "lemmatizer = WordNetLemmatizer()"
   ]
  },
  {
   "cell_type": "code",
   "execution_count": 16,
   "metadata": {},
   "outputs": [
    {
     "data": {
      "text/plain": [
       "'whose'"
      ]
     },
     "execution_count": 16,
     "metadata": {},
     "output_type": "execute_result"
    }
   ],
   "source": [
    "lemmatizer.lemmatize('whose')"
   ]
  },
  {
   "cell_type": "code",
   "execution_count": 18,
   "metadata": {},
   "outputs": [
    {
     "data": {
      "text/plain": [
       "'finally'"
      ]
     },
     "execution_count": 18,
     "metadata": {},
     "output_type": "execute_result"
    }
   ],
   "source": [
    "lemmatizer.lemmatize('finally')"
   ]
  },
  {
   "cell_type": "code",
   "execution_count": 19,
   "metadata": {},
   "outputs": [
    {
     "data": {
      "text/plain": [
       "10"
      ]
     },
     "execution_count": 19,
     "metadata": {},
     "output_type": "execute_result"
    }
   ],
   "source": [
    "len(sentences)"
   ]
  },
  {
   "cell_type": "code",
   "execution_count": 20,
   "metadata": {},
   "outputs": [],
   "source": [
    "import re\n",
    "#apply stopwords and lemmatize\n",
    "corpus1 = [] \n",
    "for i in range(len(sentences)): #replace all the special characters with blank character except a-z, A-Z\n",
    "    review = re.sub('[^a-zA-Z]', ' ', sentences[i]) \n",
    "    review = review.lower() \n",
    "    review = review.split() \n",
    "    review = [lemmatizer.lemmatize(word) for word in review if not word in set(stopwords.words('english'))] \n",
    "    review = ' '.join(review)  \n",
    "    corpus1.append(review)"
   ]
  },
  {
   "cell_type": "code",
   "execution_count": 23,
   "metadata": {},
   "outputs": [
    {
     "data": {
      "text/plain": [
       "['imran ahmed khan niazi urdu pronounced n xa n n ja zi born october pakistani politician former cricketer served nd prime minister pakistan august april',\n",
       " 'founder former chairman political party pakistan tehreek e insaf pti',\n",
       " 'captain pakistan national cricket team throughout early',\n",
       " 'born lahore khan graduated keble college oxford',\n",
       " 'began international cricket career test series england',\n",
       " 'khan played served team captain intermittently cricket world cup pakistan victory competition',\n",
       " 'considered one cricket greatest rounder khan later inducted icc cricket hall fame',\n",
       " 'founding pakistan tehreek e insaf pti khan seat national assembly general election serving opposition member mianwali',\n",
       " 'pti boycotted general election became second largest party popular vote general election',\n",
       " 'general election running populist platform pti became largest party national assembly formed coalition government independent khan prime minister']"
      ]
     },
     "execution_count": 23,
     "metadata": {},
     "output_type": "execute_result"
    }
   ],
   "source": [
    "corpus1"
   ]
  },
  {
   "cell_type": "code",
   "execution_count": 32,
   "metadata": {},
   "outputs": [],
   "source": [
    "#Bag of words that converts words to vector\n",
    "#for BAG we use, CountVectorizer\n",
    "from sklearn.feature_extraction.text import CountVectorizer\n",
    "cv2 = CountVectorizer(binary = True)"
   ]
  },
  {
   "cell_type": "code",
   "execution_count": 33,
   "metadata": {},
   "outputs": [],
   "source": [
    "#Bag of words that converts words to vector\n",
    "#for BAG we use, CountVectorizer\n",
    "#also for ngram\n",
    "from sklearn.feature_extraction.text import CountVectorizer\n",
    "cv2 = CountVectorizer(binary = True, ngram_range = (3,3)) #3,3 for trigrams"
   ]
  },
  {
   "cell_type": "code",
   "execution_count": 28,
   "metadata": {},
   "outputs": [],
   "source": [
    "X4 = cv2.fit_transform(corpus1)"
   ]
  },
  {
   "cell_type": "code",
   "execution_count": 29,
   "metadata": {},
   "outputs": [
    {
     "data": {
      "text/plain": [
       "{'imran ahmed khan': 37,\n",
       " 'ahmed khan niazi': 0,\n",
       " 'khan niazi urdu': 47,\n",
       " 'niazi urdu pronounced': 60,\n",
       " 'urdu pronounced xa': 94,\n",
       " 'pronounced xa ja': 79,\n",
       " 'xa ja zi': 97,\n",
       " 'ja zi born': 43,\n",
       " 'zi born october': 98,\n",
       " 'born october pakistani': 7,\n",
       " 'october pakistani politician': 61,\n",
       " 'pakistani politician former': 68,\n",
       " 'politician former cricketer': 75,\n",
       " 'former cricketer served': 27,\n",
       " 'cricketer served nd': 20,\n",
       " 'served nd prime': 87,\n",
       " 'nd prime minister': 59,\n",
       " 'prime minister pakistan': 78,\n",
       " 'minister pakistan august': 55,\n",
       " 'pakistan august april': 64,\n",
       " 'founder former chairman': 28,\n",
       " 'former chairman political': 26,\n",
       " 'chairman political party': 12,\n",
       " 'political party pakistan': 74,\n",
       " 'party pakistan tehreek': 70,\n",
       " 'pakistan tehreek insaf': 66,\n",
       " 'tehreek insaf pti': 92,\n",
       " 'captain pakistan national': 10,\n",
       " 'pakistan national cricket': 65,\n",
       " 'national cricket team': 58,\n",
       " 'cricket team throughout': 18,\n",
       " 'team throughout early': 91,\n",
       " 'born lahore khan': 6,\n",
       " 'lahore khan graduated': 51,\n",
       " 'khan graduated keble': 45,\n",
       " 'graduated keble college': 34,\n",
       " 'keble college oxford': 44,\n",
       " 'began international cricket': 5,\n",
       " 'international cricket career': 42,\n",
       " 'cricket career test': 15,\n",
       " 'career test series': 11,\n",
       " 'test series england': 93,\n",
       " 'khan played served': 48,\n",
       " 'played served team': 73,\n",
       " 'served team captain': 88,\n",
       " 'team captain intermittently': 90,\n",
       " 'captain intermittently cricket': 9,\n",
       " 'intermittently cricket world': 41,\n",
       " 'cricket world cup': 19,\n",
       " 'world cup pakistan': 96,\n",
       " 'cup pakistan victory': 21,\n",
       " 'pakistan victory competition': 67,\n",
       " 'considered one cricket': 14,\n",
       " 'one cricket greatest': 62,\n",
       " 'cricket greatest rounder': 16,\n",
       " 'greatest rounder khan': 35,\n",
       " 'rounder khan later': 83,\n",
       " 'khan later inducted': 46,\n",
       " 'later inducted icc': 54,\n",
       " 'inducted icc cricket': 39,\n",
       " 'icc cricket hall': 36,\n",
       " 'cricket hall fame': 17,\n",
       " 'founding pakistan tehreek': 29,\n",
       " 'insaf pti khan': 40,\n",
       " 'pti khan seat': 82,\n",
       " 'khan seat national': 50,\n",
       " 'seat national assembly': 85,\n",
       " 'national assembly general': 57,\n",
       " 'assembly general election': 2,\n",
       " 'general election serving': 32,\n",
       " 'election serving opposition': 24,\n",
       " 'serving opposition member': 89,\n",
       " 'opposition member mianwali': 63,\n",
       " 'pti boycotted general': 81,\n",
       " 'boycotted general election': 8,\n",
       " 'general election became': 30,\n",
       " 'election became second': 22,\n",
       " 'became second largest': 4,\n",
       " 'second largest party': 86,\n",
       " 'largest party popular': 53,\n",
       " 'party popular vote': 71,\n",
       " 'popular vote general': 76,\n",
       " 'vote general election': 95,\n",
       " 'general election running': 31,\n",
       " 'election running populist': 23,\n",
       " 'running populist platform': 84,\n",
       " 'populist platform pti': 77,\n",
       " 'platform pti became': 72,\n",
       " 'pti became largest': 80,\n",
       " 'became largest party': 3,\n",
       " 'largest party national': 52,\n",
       " 'party national assembly': 69,\n",
       " 'national assembly formed': 56,\n",
       " 'assembly formed coalition': 1,\n",
       " 'formed coalition government': 25,\n",
       " 'coalition government independent': 13,\n",
       " 'government independent khan': 33,\n",
       " 'independent khan prime': 38,\n",
       " 'khan prime minister': 49}"
      ]
     },
     "execution_count": 29,
     "metadata": {},
     "output_type": "execute_result"
    }
   ],
   "source": [
    "cv2.vocabulary_"
   ]
  },
  {
   "cell_type": "code",
   "execution_count": 34,
   "metadata": {},
   "outputs": [
    {
     "data": {
      "text/plain": [
       "{'imran ahmed': 75,\n",
       " 'ahmed khan': 0,\n",
       " 'khan niazi': 95,\n",
       " 'niazi urdu': 120,\n",
       " 'urdu pronounced': 190,\n",
       " 'pronounced xa': 158,\n",
       " 'xa ja': 197,\n",
       " 'ja zi': 87,\n",
       " 'zi born': 199,\n",
       " 'born october': 15,\n",
       " 'october pakistani': 122,\n",
       " 'pakistani politician': 136,\n",
       " 'politician former': 150,\n",
       " 'former cricketer': 56,\n",
       " 'cricketer served': 42,\n",
       " 'served nd': 175,\n",
       " 'nd prime': 118,\n",
       " 'prime minister': 156,\n",
       " 'minister pakistan': 111,\n",
       " 'pakistan august': 128,\n",
       " 'august april': 6,\n",
       " 'imran ahmed khan': 76,\n",
       " 'ahmed khan niazi': 1,\n",
       " 'khan niazi urdu': 96,\n",
       " 'niazi urdu pronounced': 121,\n",
       " 'urdu pronounced xa': 191,\n",
       " 'pronounced xa ja': 159,\n",
       " 'xa ja zi': 198,\n",
       " 'ja zi born': 88,\n",
       " 'zi born october': 200,\n",
       " 'born october pakistani': 16,\n",
       " 'october pakistani politician': 123,\n",
       " 'pakistani politician former': 137,\n",
       " 'politician former cricketer': 151,\n",
       " 'former cricketer served': 57,\n",
       " 'cricketer served nd': 43,\n",
       " 'served nd prime': 176,\n",
       " 'nd prime minister': 119,\n",
       " 'prime minister pakistan': 157,\n",
       " 'minister pakistan august': 112,\n",
       " 'pakistan august april': 129,\n",
       " 'founder former': 58,\n",
       " 'former chairman': 54,\n",
       " 'chairman political': 25,\n",
       " 'political party': 148,\n",
       " 'party pakistan': 140,\n",
       " 'pakistan tehreek': 132,\n",
       " 'tehreek insaf': 185,\n",
       " 'insaf pti': 81,\n",
       " 'founder former chairman': 59,\n",
       " 'former chairman political': 55,\n",
       " 'chairman political party': 26,\n",
       " 'political party pakistan': 149,\n",
       " 'party pakistan tehreek': 141,\n",
       " 'pakistan tehreek insaf': 133,\n",
       " 'tehreek insaf pti': 186,\n",
       " 'captain pakistan': 21,\n",
       " 'pakistan national': 130,\n",
       " 'national cricket': 116,\n",
       " 'cricket team': 38,\n",
       " 'team throughout': 183,\n",
       " 'throughout early': 189,\n",
       " 'captain pakistan national': 22,\n",
       " 'pakistan national cricket': 131,\n",
       " 'national cricket team': 117,\n",
       " 'cricket team throughout': 39,\n",
       " 'team throughout early': 184,\n",
       " 'born lahore': 13,\n",
       " 'lahore khan': 103,\n",
       " 'khan graduated': 91,\n",
       " 'graduated keble': 68,\n",
       " 'keble college': 89,\n",
       " 'college oxford': 29,\n",
       " 'born lahore khan': 14,\n",
       " 'lahore khan graduated': 104,\n",
       " 'khan graduated keble': 92,\n",
       " 'graduated keble college': 69,\n",
       " 'keble college oxford': 90,\n",
       " 'began international': 11,\n",
       " 'international cricket': 85,\n",
       " 'cricket career': 32,\n",
       " 'career test': 23,\n",
       " 'test series': 187,\n",
       " 'series england': 174,\n",
       " 'began international cricket': 12,\n",
       " 'international cricket career': 86,\n",
       " 'cricket career test': 33,\n",
       " 'career test series': 24,\n",
       " 'test series england': 188,\n",
       " 'khan played': 97,\n",
       " 'played served': 146,\n",
       " 'served team': 177,\n",
       " 'team captain': 181,\n",
       " 'captain intermittently': 19,\n",
       " 'intermittently cricket': 83,\n",
       " 'cricket world': 40,\n",
       " 'world cup': 195,\n",
       " 'cup pakistan': 44,\n",
       " 'pakistan victory': 134,\n",
       " 'victory competition': 192,\n",
       " 'khan played served': 98,\n",
       " 'played served team': 147,\n",
       " 'served team captain': 178,\n",
       " 'team captain intermittently': 182,\n",
       " 'captain intermittently cricket': 20,\n",
       " 'intermittently cricket world': 84,\n",
       " 'cricket world cup': 41,\n",
       " 'world cup pakistan': 196,\n",
       " 'cup pakistan victory': 45,\n",
       " 'pakistan victory competition': 135,\n",
       " 'considered one': 30,\n",
       " 'one cricket': 124,\n",
       " 'cricket greatest': 34,\n",
       " 'greatest rounder': 70,\n",
       " 'rounder khan': 166,\n",
       " 'khan later': 93,\n",
       " 'later inducted': 108,\n",
       " 'inducted icc': 79,\n",
       " 'icc cricket': 73,\n",
       " 'cricket hall': 36,\n",
       " 'hall fame': 72,\n",
       " 'considered one cricket': 31,\n",
       " 'one cricket greatest': 125,\n",
       " 'cricket greatest rounder': 35,\n",
       " 'greatest rounder khan': 71,\n",
       " 'rounder khan later': 167,\n",
       " 'khan later inducted': 94,\n",
       " 'later inducted icc': 109,\n",
       " 'inducted icc cricket': 80,\n",
       " 'icc cricket hall': 74,\n",
       " 'cricket hall fame': 37,\n",
       " 'founding pakistan': 60,\n",
       " 'pti khan': 164,\n",
       " 'khan seat': 101,\n",
       " 'seat national': 170,\n",
       " 'national assembly': 113,\n",
       " 'assembly general': 4,\n",
       " 'general election': 62,\n",
       " 'election serving': 50,\n",
       " 'serving opposition': 179,\n",
       " 'opposition member': 126,\n",
       " 'member mianwali': 110,\n",
       " 'founding pakistan tehreek': 61,\n",
       " 'insaf pti khan': 82,\n",
       " 'pti khan seat': 165,\n",
       " 'khan seat national': 102,\n",
       " 'seat national assembly': 171,\n",
       " 'national assembly general': 115,\n",
       " 'assembly general election': 5,\n",
       " 'general election serving': 65,\n",
       " 'election serving opposition': 51,\n",
       " 'serving opposition member': 180,\n",
       " 'opposition member mianwali': 127,\n",
       " 'pti boycotted': 162,\n",
       " 'boycotted general': 17,\n",
       " 'election became': 46,\n",
       " 'became second': 9,\n",
       " 'second largest': 172,\n",
       " 'largest party': 105,\n",
       " 'party popular': 142,\n",
       " 'popular vote': 152,\n",
       " 'vote general': 193,\n",
       " 'pti boycotted general': 163,\n",
       " 'boycotted general election': 18,\n",
       " 'general election became': 63,\n",
       " 'election became second': 47,\n",
       " 'became second largest': 10,\n",
       " 'second largest party': 173,\n",
       " 'largest party popular': 107,\n",
       " 'party popular vote': 143,\n",
       " 'popular vote general': 153,\n",
       " 'vote general election': 194,\n",
       " 'election running': 48,\n",
       " 'running populist': 168,\n",
       " 'populist platform': 154,\n",
       " 'platform pti': 144,\n",
       " 'pti became': 160,\n",
       " 'became largest': 7,\n",
       " 'party national': 138,\n",
       " 'assembly formed': 2,\n",
       " 'formed coalition': 52,\n",
       " 'coalition government': 27,\n",
       " 'government independent': 66,\n",
       " 'independent khan': 77,\n",
       " 'khan prime': 99,\n",
       " 'general election running': 64,\n",
       " 'election running populist': 49,\n",
       " 'running populist platform': 169,\n",
       " 'populist platform pti': 155,\n",
       " 'platform pti became': 145,\n",
       " 'pti became largest': 161,\n",
       " 'became largest party': 8,\n",
       " 'largest party national': 106,\n",
       " 'party national assembly': 139,\n",
       " 'national assembly formed': 114,\n",
       " 'assembly formed coalition': 3,\n",
       " 'formed coalition government': 53,\n",
       " 'coalition government independent': 28,\n",
       " 'government independent khan': 67,\n",
       " 'independent khan prime': 78,\n",
       " 'khan prime minister': 100}"
      ]
     },
     "execution_count": 34,
     "metadata": {},
     "output_type": "execute_result"
    }
   ],
   "source": [
    "#Bag of words that converts words to vector\n",
    "#for BAG we use, CountVectorizer\n",
    "#also for ngram\n",
    "from sklearn.feature_extraction.text import CountVectorizer\n",
    "cv3 = CountVectorizer(binary = True, ngram_range = (2,3)) #2,3 both bigram and trigrams\n",
    "X4 = cv3.fit_transform(corpus1)\n",
    "cv3.vocabulary_"
   ]
  },
  {
   "cell_type": "markdown",
   "metadata": {},
   "source": [
    "#here we have so many features due to big data, this is disadvantage of BOW"
   ]
  },
  {
   "cell_type": "code",
   "execution_count": 36,
   "metadata": {},
   "outputs": [
    {
     "data": {
      "text/plain": [
       "'imran ahmed khan niazi urdu pronounced n xa n n ja zi born october pakistani politician former cricketer served nd prime minister pakistan august april'"
      ]
     },
     "execution_count": 36,
     "metadata": {},
     "output_type": "execute_result"
    }
   ],
   "source": [
    "corpus1[0]"
   ]
  },
  {
   "cell_type": "code",
   "execution_count": 38,
   "metadata": {},
   "outputs": [
    {
     "data": {
      "text/plain": [
       "array([[1, 1, 0, 0, 0, 0, 1, 0, 0, 0, 0, 0, 0, 0, 0, 1, 1, 0, 0, 0, 0, 0,\n",
       "        0, 0, 0, 0, 0, 0, 0, 0, 0, 0, 0, 0, 0, 0, 0, 0, 0, 0, 0, 0, 1, 1,\n",
       "        0, 0, 0, 0, 0, 0, 0, 0, 0, 0, 0, 0, 1, 1, 0, 0, 0, 0, 0, 0, 0, 0,\n",
       "        0, 0, 0, 0, 0, 0, 0, 0, 0, 1, 1, 0, 0, 0, 0, 0, 0, 0, 0, 0, 0, 1,\n",
       "        1, 0, 0, 0, 0, 0, 0, 1, 1, 0, 0, 0, 0, 0, 0, 0, 0, 0, 0, 0, 0, 0,\n",
       "        0, 1, 1, 0, 0, 0, 0, 0, 1, 1, 1, 1, 1, 1, 0, 0, 0, 0, 1, 1, 0, 0,\n",
       "        0, 0, 0, 0, 1, 1, 0, 0, 0, 0, 0, 0, 0, 0, 0, 0, 0, 0, 1, 1, 0, 0,\n",
       "        0, 0, 1, 1, 1, 1, 0, 0, 0, 0, 0, 0, 0, 0, 0, 0, 0, 0, 0, 0, 0, 1,\n",
       "        1, 0, 0, 0, 0, 0, 0, 0, 0, 0, 0, 0, 0, 0, 1, 1, 0, 0, 0, 0, 0, 1,\n",
       "        1, 1, 1]], dtype=int64)"
      ]
     },
     "execution_count": 38,
     "metadata": {},
     "output_type": "execute_result"
    }
   ],
   "source": [
    "X4[0].toarray()"
   ]
  },
  {
   "cell_type": "code",
   "execution_count": 40,
   "metadata": {},
   "outputs": [],
   "source": [
    "## TFIDF\n",
    "from sklearn.feature_extraction.text import TfidfVectorizer\n",
    "cv_tfidf=TfidfVectorizer()\n",
    "X_tf = cv_tfidf.fit_transform(corpus1)"
   ]
  },
  {
   "cell_type": "code",
   "execution_count": 42,
   "metadata": {},
   "outputs": [
    {
     "data": {
      "text/plain": [
       "'imran ahmed khan niazi urdu pronounced n xa n n ja zi born october pakistani politician former cricketer served nd prime minister pakistan august april'"
      ]
     },
     "execution_count": 42,
     "metadata": {},
     "output_type": "execute_result"
    }
   ],
   "source": [
    "corpus1[0]"
   ]
  },
  {
   "cell_type": "code",
   "execution_count": 43,
   "metadata": {},
   "outputs": [
    {
     "data": {
      "text/plain": [
       "array([[0.22789698, 0.22789698, 0.        , 0.22789698, 0.        ,\n",
       "        0.        , 0.19373325, 0.        , 0.        , 0.        ,\n",
       "        0.        , 0.        , 0.        , 0.        , 0.        ,\n",
       "        0.        , 0.22789698, 0.        , 0.        , 0.        ,\n",
       "        0.        , 0.        , 0.        , 0.19373325, 0.        ,\n",
       "        0.        , 0.        , 0.        , 0.        , 0.        ,\n",
       "        0.        , 0.        , 0.22789698, 0.        , 0.        ,\n",
       "        0.        , 0.        , 0.        , 0.22789698, 0.        ,\n",
       "        0.12234153, 0.        , 0.        , 0.        , 0.        ,\n",
       "        0.        , 0.19373325, 0.        , 0.22789698, 0.22789698,\n",
       "        0.22789698, 0.        , 0.        , 0.        , 0.13532998,\n",
       "        0.22789698, 0.        , 0.        , 0.        , 0.        ,\n",
       "        0.22789698, 0.        , 0.        , 0.19373325, 0.22789698,\n",
       "        0.        , 0.        , 0.        , 0.        , 0.        ,\n",
       "        0.        , 0.19373325, 0.        , 0.        , 0.        ,\n",
       "        0.        , 0.        , 0.22789698, 0.        , 0.        ,\n",
       "        0.        , 0.22789698, 0.22789698]])"
      ]
     },
     "execution_count": 43,
     "metadata": {},
     "output_type": "execute_result"
    }
   ],
   "source": [
    "X_tf[0].toarray()"
   ]
  },
  {
   "cell_type": "code",
   "execution_count": 44,
   "metadata": {},
   "outputs": [],
   "source": [
    "#as we can see from above vector, we have decimal values which are actually the weightage given to words based \n",
    "#rareness and repetition"
   ]
  },
  {
   "cell_type": "code",
   "execution_count": 47,
   "metadata": {},
   "outputs": [],
   "source": [
    "## TFIDF with ngram\n",
    "from sklearn.feature_extraction.text import TfidfVectorizer\n",
    "cv_tfidf=TfidfVectorizer(ngram_range = (3,3))\n",
    "X_tf_ngrm = cv_tfidf.fit_transform(corpus1)"
   ]
  },
  {
   "cell_type": "code",
   "execution_count": 48,
   "metadata": {},
   "outputs": [
    {
     "data": {
      "text/plain": [
       "array([[0.2236068, 0.       , 0.       , 0.       , 0.       , 0.       ,\n",
       "        0.       , 0.2236068, 0.       , 0.       , 0.       , 0.       ,\n",
       "        0.       , 0.       , 0.       , 0.       , 0.       , 0.       ,\n",
       "        0.       , 0.       , 0.2236068, 0.       , 0.       , 0.       ,\n",
       "        0.       , 0.       , 0.       , 0.2236068, 0.       , 0.       ,\n",
       "        0.       , 0.       , 0.       , 0.       , 0.       , 0.       ,\n",
       "        0.       , 0.2236068, 0.       , 0.       , 0.       , 0.       ,\n",
       "        0.       , 0.2236068, 0.       , 0.       , 0.       , 0.2236068,\n",
       "        0.       , 0.       , 0.       , 0.       , 0.       , 0.       ,\n",
       "        0.       , 0.2236068, 0.       , 0.       , 0.       , 0.2236068,\n",
       "        0.2236068, 0.2236068, 0.       , 0.       , 0.2236068, 0.       ,\n",
       "        0.       , 0.       , 0.2236068, 0.       , 0.       , 0.       ,\n",
       "        0.       , 0.       , 0.       , 0.2236068, 0.       , 0.       ,\n",
       "        0.2236068, 0.2236068, 0.       , 0.       , 0.       , 0.       ,\n",
       "        0.       , 0.       , 0.       , 0.2236068, 0.       , 0.       ,\n",
       "        0.       , 0.       , 0.       , 0.       , 0.2236068, 0.       ,\n",
       "        0.       , 0.2236068, 0.2236068]])"
      ]
     },
     "execution_count": 48,
     "metadata": {},
     "output_type": "execute_result"
    }
   ],
   "source": [
    "X_tf_ngrm[0].toarray()"
   ]
  },
  {
   "cell_type": "code",
   "execution_count": 49,
   "metadata": {},
   "outputs": [],
   "source": [
    "#we can  limit top features. set limit for max features\n",
    "## TFIDF with ngram\n",
    "from sklearn.feature_extraction.text import TfidfVectorizer\n",
    "cv_tfidf=TfidfVectorizer(ngram_range = (3,3), max_features = 10) #top 10 features\n",
    "X_tf_ngrm_f = cv_tfidf.fit_transform(corpus1)"
   ]
  },
  {
   "cell_type": "code",
   "execution_count": 50,
   "metadata": {},
   "outputs": [
    {
     "data": {
      "text/plain": [
       "'imran ahmed khan niazi urdu pronounced n xa n n ja zi born october pakistani politician former cricketer served nd prime minister pakistan august april'"
      ]
     },
     "execution_count": 50,
     "metadata": {},
     "output_type": "execute_result"
    }
   ],
   "source": [
    "corpus1[0]"
   ]
  },
  {
   "cell_type": "code",
   "execution_count": 51,
   "metadata": {},
   "outputs": [
    {
     "data": {
      "text/plain": [
       "array([[0.57735027, 0.        , 0.57735027, 0.        , 0.        ,\n",
       "        0.        , 0.57735027, 0.        , 0.        , 0.        ]])"
      ]
     },
     "execution_count": 51,
     "metadata": {},
     "output_type": "execute_result"
    }
   ],
   "source": [
    "X_tf_ngrm_f[0].toarray()"
   ]
  },
  {
   "cell_type": "code",
   "execution_count": 52,
   "metadata": {},
   "outputs": [],
   "source": [
    "#here we get top 10 featues only i.e top 10 high occurence/frequency features"
   ]
  },
  {
   "cell_type": "code",
   "execution_count": null,
   "metadata": {},
   "outputs": [],
   "source": []
  }
 ],
 "metadata": {
  "kernelspec": {
   "display_name": "base",
   "language": "python",
   "name": "python3"
  },
  "language_info": {
   "codemirror_mode": {
    "name": "ipython",
    "version": 3
   },
   "file_extension": ".py",
   "mimetype": "text/x-python",
   "name": "python",
   "nbconvert_exporter": "python",
   "pygments_lexer": "ipython3",
   "version": "3.9.13"
  }
 },
 "nbformat": 4,
 "nbformat_minor": 2
}
